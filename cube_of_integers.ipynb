{
 "cells": [
  {
   "cell_type": "code",
   "execution_count": null,
   "metadata": {},
   "outputs": [],
   "source": [
    "# ask the user to input the size of the array\n",
    "size_array = int(input(\"Enter the size of the array : \"))\n",
    "\n",
    "# for storing integers\n",
    "integers = []"
   ]
  }
 ],
 "metadata": {
  "language_info": {
   "name": "python"
  }
 },
 "nbformat": 4,
 "nbformat_minor": 2
}

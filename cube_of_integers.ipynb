{
 "cells": [
  {
   "cell_type": "code",
   "execution_count": 10,
   "metadata": {},
   "outputs": [
    {
     "name": "stdout",
     "output_type": "stream",
     "text": [
      "Enter the size of the array:  3\n",
      "Enter the elements separated by space:  3 10 20\n",
      "27\n",
      "1000\n",
      "8000\n"
     ]
    }
   ],
   "source": [
    "# ask the user to input the size of the array\n",
    "size_array = int(input(\"Enter the size of the array : \"))\n",
    "print(\"Enter the size of the array: \", size_array)\n",
    "\n",
    "# input the elements\n",
    "integers = list(map(int, input(f\"Enter the elements separated by spaces: \").split()))\n",
    "print(\"Enter the elements separated by space: \", *integers)\n",
    "for integers in integers:\n",
    "    # print the cubed integers/numbers\n",
    "    print(integers ** 3)"
   ]
  }
 ],
 "metadata": {
  "kernelspec": {
   "display_name": "Python 3",
   "language": "python",
   "name": "python3"
  },
  "language_info": {
   "codemirror_mode": {
    "name": "ipython",
    "version": 3
   },
   "file_extension": ".py",
   "mimetype": "text/x-python",
   "name": "python",
   "nbconvert_exporter": "python",
   "pygments_lexer": "ipython3",
   "version": "3.11.9"
  }
 },
 "nbformat": 4,
 "nbformat_minor": 2
}

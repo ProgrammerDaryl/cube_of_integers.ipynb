{
 "cells": [
  {
   "cell_type": "code",
   "execution_count": null,
   "metadata": {},
   "outputs": [],
   "source": [
    "# ask the user to input the size of the array\n",
    "size_array = int(input(\"Enter the size of the array : \"))\n",
    "\n",
    "# input the elements\n",
    "integers = list(map(int, input(f\"Enter the elements separated by spaces: \").split()))\n",
    "for integers in integers:\n",
    "    # print the cubed integers/numbers\n",
    "    print(integers ** 3)"
   ]
  }
 ],
 "metadata": {
  "language_info": {
   "name": "python"
  }
 },
 "nbformat": 4,
 "nbformat_minor": 2
}
